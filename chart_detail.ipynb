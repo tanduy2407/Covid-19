{
 "cells": [
  {
   "cell_type": "code",
   "execution_count": 1,
   "metadata": {},
   "outputs": [
    {
     "name": "stderr",
     "output_type": "stream",
     "text": [
      "C:\\Users\\My PC\\AppData\\Local\\Temp/ipykernel_18020/1222591062.py:19: DeprecationWarning:\n",
      "\n",
      "`set_matplotlib_formats` is deprecated since IPython 7.23, directly use `matplotlib_inline.backend_inline.set_matplotlib_formats()`\n",
      "\n"
     ]
    }
   ],
   "source": [
    "import numpy as np \n",
    "import matplotlib.pyplot as plt \n",
    "import plotly.express as px\n",
    "# for offline ploting\n",
    "from plotly.offline import plot\n",
    "import pandas as pd \n",
    "import math\n",
    "from sklearn.linear_model import LinearRegression, BayesianRidge\n",
    "from sklearn.model_selection import RandomizedSearchCV, train_test_split\n",
    "from sklearn.preprocessing import PolynomialFeatures\n",
    "from sklearn.svm import SVR\n",
    "from sklearn.metrics import mean_squared_error, mean_absolute_error\n",
    "import datetime\n",
    "import operator \n",
    "from connect_mysql import query\n",
    "plt.style.use('seaborn-poster')\n",
    "%matplotlib inline\n",
    "from IPython.display import set_matplotlib_formats\n",
    "set_matplotlib_formats('retina')\n",
    "import warnings\n",
    "warnings.filterwarnings(\"ignore\")"
   ]
  },
  {
   "cell_type": "code",
   "execution_count": null,
   "metadata": {},
   "outputs": [],
   "source": [
    "PLOT_SIZE = (16, 10)"
   ]
  },
  {
   "cell_type": "code",
   "execution_count": 11,
   "metadata": {},
   "outputs": [],
   "source": [
    "confirmed_df = pd.read_csv('https://raw.githubusercontent.com/CSSEGISandData/COVID-19/master/csse_covid_19_data/csse_covid_19_time_series/time_series_covid19_confirmed_global.csv')\n",
    "deaths_df = pd.read_csv('https://raw.githubusercontent.com/CSSEGISandData/COVID-19/master/csse_covid_19_data/csse_covid_19_time_series/time_series_covid19_deaths_global.csv')\n",
    "updated_date = (datetime.datetime.today()-datetime.timedelta(days=2)).strftime('%m-%d-%Y')\n",
    "latest_data = pd.read_csv(f'https://raw.githubusercontent.com/CSSEGISandData/COVID-19/master/csse_covid_19_data/csse_covid_19_daily_reports/{updated_date}.csv')\n",
    "sum_country = query(keyw='Read', table_name='SUMMARY_COVID_DATA')[['NAME', 'TOTAL_CASES', 'TOTAL_DEATHS']]"
   ]
  },
  {
   "cell_type": "code",
   "execution_count": null,
   "metadata": {},
   "outputs": [],
   "source": [
    "### scatter plot for top 25 country with total deaths and total cases \n",
    "fig = px.scatter(sum_country.sort_values('TOTAL_DEATHS', ascending=False).iloc[:25, :], \n",
    "                 x='TOTAL_CASES', y='TOTAL_DEATHS', color='NAME', size='TOTAL_CASES', \n",
    "                 height=700, text='NAME', log_x=True, log_y=True, \n",
    "                 title='Deaths vs Confirmed (Scale is in log10)')\n",
    "fig.update_traces(textposition='top center')\n",
    "fig.update_layout(showlegend=False)\n",
    "fig.update_layout(xaxis_rangeslider_visible=True)\n",
    "fig.show()"
   ]
  },
  {
   "cell_type": "code",
   "execution_count": null,
   "metadata": {},
   "outputs": [],
   "source": [
    "def convert_df(origin_df, col):\n",
    "    df_converted = origin_df.drop(['Lat', 'Long', 'Province/State'], axis=1) \n",
    "    df_converted = df_converted.set_index(['Country/Region']).stack().reset_index().rename(columns={'level_1':'Date', 0: col}) ### convert column dates to rows and rename\n",
    "    df_converted[\"Date\"] = df_converted[\"Date\"].astype('datetime64[ns]')\n",
    "    df_converted = df_converted.sort_values(by=['Date', 'Country/Region']) \n",
    "    return df_converted"
   ]
  },
  {
   "cell_type": "code",
   "execution_count": null,
   "metadata": {},
   "outputs": [],
   "source": [
    "confirmed_df_converted = convert_df(confirmed_df, 'Total_Confirmed')\n",
    "deaths_df_converted = convert_df(confirmed_df, 'Total_Deaths')"
   ]
  },
  {
   "cell_type": "code",
   "execution_count": null,
   "metadata": {},
   "outputs": [],
   "source": [
    "### animation map for cases over time\n",
    "fig = px.choropleth(confirmed_df_converted, locations=\"Country/Region\", \n",
    "                    color=np.log(confirmed_df_converted[\"Total_Confirmed\"]),\n",
    "                    locationmode='country names', hover_name=\"Country/Region\", \n",
    "                    animation_frame=confirmed_df_converted[\"Date\"].dt.strftime('%Y-%m-%d'),\n",
    "                    title='Cases over time', color_continuous_scale=px.colors.sequential.matter)\n",
    "fig.update(layout_coloraxis_showscale=False)\n",
    "plot(fig)"
   ]
  },
  {
   "cell_type": "code",
   "execution_count": null,
   "metadata": {},
   "outputs": [],
   "source": [
    "### animation map for deaths over time\n",
    "fig = px.choropleth(deaths_df_converted, locations=\"Country/Region\", \n",
    "                    color=np.log(deaths_df_converted[\"Total_Deaths\"]),\n",
    "                    locationmode='country names', hover_name=\"Country/Region\", \n",
    "                    animation_frame=deaths_df_converted[\"Date\"].dt.strftime('%Y-%m-%d'),\n",
    "                    title='Deaths over time', color_continuous_scale=px.colors.sequential.matter)\n",
    "fig.update(layout_coloraxis_showscale=False)\n",
    "plot(fig)"
   ]
  },
  {
   "cell_type": "code",
   "execution_count": null,
   "metadata": {},
   "outputs": [],
   "source": [
    "cols = confirmed_df.keys()\n",
    "### get data from 22/1/2021 to updated_date\n",
    "confirmed = confirmed_df.loc[:, cols[4]:cols[-1]] \n",
    "deaths = deaths_df.loc[:, cols[4]:cols[-1]]"
   ]
  },
  {
   "cell_type": "code",
   "execution_count": null,
   "metadata": {},
   "outputs": [],
   "source": [
    "dates = confirmed.keys()\n",
    "world_cases = []\n",
    "total_deaths = [] \n",
    "mortality_rate = []\n",
    "for i in dates:\n",
    "    confirmed_sum = confirmed[i].sum()\n",
    "    death_sum = deaths[i].sum()\n",
    "    \n",
    "    # confirmed, deaths\n",
    "    world_cases.append(confirmed_sum)\n",
    "    total_deaths.append(death_sum)\n",
    "    \n",
    "    # calculate rates\n",
    "    mortality_rate.append(death_sum/confirmed_sum)"
   ]
  },
  {
   "cell_type": "code",
   "execution_count": null,
   "metadata": {},
   "outputs": [],
   "source": [
    "def daily_increase(data):\n",
    "    d = [] \n",
    "    for i in range(len(data)):\n",
    "        if i == 0:\n",
    "            d.append(data[0])\n",
    "        else:\n",
    "            d.append(data[i]-data[i-1])\n",
    "    return d \n",
    "\n",
    "def moving_average(data, window_size):\n",
    "    moving_average = []\n",
    "    for i in range(len(data)):\n",
    "        if i + window_size < len(data):\n",
    "            moving_average.append(np.mean(data[i:i+window_size]))\n",
    "        else:\n",
    "            moving_average.append(np.mean(data[i:len(data)]))\n",
    "    return moving_average\n",
    "\n",
    "# window size\n",
    "window = 7\n",
    "\n",
    "# confirmed cases\n",
    "world_daily_increase = daily_increase(world_cases)\n",
    "world_confirmed_avg= moving_average(world_cases, window)\n",
    "world_daily_increase_avg = moving_average(world_daily_increase, window)\n",
    "\n",
    "# deaths\n",
    "world_daily_death = daily_increase(total_deaths)\n",
    "world_death_avg = moving_average(total_deaths, window)\n",
    "world_daily_death_avg = moving_average(world_daily_death, window)"
   ]
  },
  {
   "cell_type": "code",
   "execution_count": null,
   "metadata": {},
   "outputs": [],
   "source": [
    "num_of_days = np.array([i for i in range(len(dates))]) ### since 22/1/2020\n",
    "world_cases = np.array(world_cases).reshape(-1, 1)\n",
    "total_deaths = np.array(total_deaths).reshape(-1, 1)"
   ]
  },
  {
   "cell_type": "code",
   "execution_count": null,
   "metadata": {},
   "outputs": [],
   "source": [
    "plt.figure(figsize=PLOT_SIZE)\n",
    "plt.plot(num_of_days, world_cases)\n",
    "plt.plot(num_of_days, world_confirmed_avg, linestyle='dashed', color='red')\n",
    "plt.title('Total of Coronavirus Cases Over Time', size=30)\n",
    "plt.xlabel('Days Since 22/1/2020', size=30)\n",
    "plt.ylabel('# of Cases', size=30)\n",
    "plt.legend(['Worldwide Coronavirus Cases', 'Moving Average {} Days'.format(window)], prop={'size': 15})\n",
    "plt.xticks(size=20)\n",
    "plt.yticks(size=20)\n",
    "plt.show()"
   ]
  },
  {
   "cell_type": "code",
   "execution_count": null,
   "metadata": {},
   "outputs": [],
   "source": [
    "plt.figure(figsize=PLOT_SIZE)\n",
    "plt.plot(num_of_days, total_deaths)\n",
    "plt.plot(num_of_days, world_death_avg, linestyle='dashed', color='red')\n",
    "plt.title('Total of Coronavirus Deaths Over Time', size=30)\n",
    "plt.xlabel('Days Since 22/1/2020', size=30)\n",
    "plt.ylabel('# of Cases', size=30)\n",
    "plt.legend(['Worldwide Coronavirus Deaths', 'Moving Average {} Days'.format(window)], prop={'size': 15})\n",
    "plt.xticks(size=20)\n",
    "plt.yticks(size=20)\n",
    "plt.show()"
   ]
  },
  {
   "cell_type": "code",
   "execution_count": null,
   "metadata": {},
   "outputs": [],
   "source": [
    "plt.figure(figsize=PLOT_SIZE)\n",
    "plt.bar(num_of_days, world_daily_increase)\n",
    "plt.plot(num_of_days, world_daily_increase_avg, color='red', linestyle='dashed')\n",
    "plt.title('World Daily Increases in Confirmed Cases', size=30)\n",
    "plt.xlabel('Days Since 22/1/2020', size=30)\n",
    "plt.ylabel('# of Cases', size=30)\n",
    "plt.legend(['Moving Average {} Days'.format(window), 'World Daily Increase in COVID-19 Cases'], prop={'size': 15})\n",
    "plt.xticks(size=20)\n",
    "plt.yticks(size=20)\n",
    "plt.show()"
   ]
  },
  {
   "cell_type": "code",
   "execution_count": null,
   "metadata": {},
   "outputs": [],
   "source": [
    "plt.figure(figsize=PLOT_SIZE)\n",
    "plt.bar(num_of_days, world_daily_death)\n",
    "plt.plot(num_of_days, world_daily_death_avg, color='red', linestyle='dashed')\n",
    "plt.title('World Daily Increases in Confirmed Deaths', size=30)\n",
    "plt.xlabel('Days Since 22/1/2020', size=30)\n",
    "plt.ylabel('# of Cases', size=30)\n",
    "plt.legend(['Moving Average {} Days'.format(window), 'World Daily Increase in COVID-19 Deaths'], prop={'size': 15})\n",
    "plt.xticks(size=20)\n",
    "plt.yticks(size=20)\n",
    "plt.show()"
   ]
  },
  {
   "cell_type": "code",
   "execution_count": null,
   "metadata": {},
   "outputs": [],
   "source": [
    "plt.figure(figsize=PLOT_SIZE)\n",
    "plt.plot(num_of_days, np.log10(world_cases))\n",
    "plt.title('Log of # of Coronavirus Cases Over Time', size=30)\n",
    "plt.xlabel('Days Since 22/1/2020', size=30)\n",
    "plt.ylabel('# of Cases', size=30)\n",
    "plt.xticks(size=20)\n",
    "plt.yticks(size=20)\n",
    "plt.show()"
   ]
  },
  {
   "cell_type": "code",
   "execution_count": null,
   "metadata": {},
   "outputs": [],
   "source": [
    "plt.figure(figsize=PLOT_SIZE)\n",
    "plt.plot(num_of_days, np.log10(total_deaths))\n",
    "plt.title('Log of # of Coronavirus Deaths Over Time', size=30)\n",
    "plt.xlabel('Days Since 22/1/2020', size=30)\n",
    "plt.ylabel('# of Cases', size=30)\n",
    "plt.xticks(size=20)\n",
    "plt.yticks(size=20)\n",
    "plt.show()"
   ]
  },
  {
   "cell_type": "code",
   "execution_count": null,
   "metadata": {},
   "outputs": [],
   "source": [
    "def country_plot(x, y1, y2, y3, country):\n",
    "    # window is set as 14 in in the beginning of the notebook \n",
    "    confirmed_avg = moving_average(y1, window)\n",
    "    confirmed_increase_avg = moving_average(y2, window)\n",
    "    death_increase_avg = moving_average(y3, window)\n",
    "\n",
    "    plt.figure(figsize=PLOT_SIZE)\n",
    "    plt.plot(x, y1)\n",
    "    plt.plot(x, confirmed_avg, color='red', linestyle='dashed')\n",
    "    plt.legend(['{} Confirmed Cases'.format(country), 'Moving Average {} Days'.format(window)], prop={'size': 20})\n",
    "    plt.title('{} Confirmed Cases'.format(country), size=30)\n",
    "    plt.xlabel('Days Since 22/1/2020', size=30)\n",
    "    plt.ylabel('# of Cases', size=30)\n",
    "    plt.xticks(size=20)\n",
    "    plt.yticks(size=20)\n",
    "    plt.show()\n",
    "\n",
    "    plt.figure(figsize=PLOT_SIZE)\n",
    "    plt.bar(x, y2)\n",
    "    plt.plot(x, confirmed_increase_avg, color='red', linestyle='dashed')\n",
    "    plt.legend(['Moving Average {} Days'.format(window), '{} Daily Increase in Confirmed Cases'.format(country)], prop={'size': 20})\n",
    "    plt.title('{} Daily Increases in Confirmed Cases'.format(country), size=30)\n",
    "    plt.xlabel('Days Since 22/1/2020', size=30)\n",
    "    plt.ylabel('# of Cases', size=30)\n",
    "    plt.xticks(size=20)\n",
    "    plt.yticks(size=20)\n",
    "    plt.show()\n",
    "\n",
    "    plt.figure(figsize=PLOT_SIZE)\n",
    "    plt.bar(x, y3)\n",
    "    plt.plot(x, death_increase_avg, color='red', linestyle='dashed')\n",
    "    plt.legend(['Moving Average {} Days'.format(window), '{} Daily Increase in Confirmed Deaths'.format(country)], prop={'size': 20})\n",
    "    plt.title('{} Daily Increases in Deaths'.format(country), size=30)\n",
    "    plt.xlabel('Days Since 22/1/2020', size=30)\n",
    "    plt.ylabel('# of Cases', size=30)\n",
    "    plt.xticks(size=20)\n",
    "    plt.yticks(size=20)\n",
    "    plt.show()"
   ]
  },
  {
   "cell_type": "code",
   "execution_count": null,
   "metadata": {},
   "outputs": [],
   "source": [
    "# helper function for getting country's cases, deaths, and recoveries        \n",
    "def get_country_info(country_name):\n",
    "    country_cases = []\n",
    "    country_deaths = []\n",
    "    for i in dates:\n",
    "        country_cases.append(confirmed_df[confirmed_df['Country/Region']==country_name][i].sum())\n",
    "        country_deaths.append(deaths_df[deaths_df['Country/Region']==country_name][i].sum())\n",
    "    return (country_cases, country_deaths)"
   ]
  },
  {
   "cell_type": "code",
   "execution_count": null,
   "metadata": {},
   "outputs": [],
   "source": [
    "def country_visualizations(country_name):\n",
    "    country_info = get_country_info(country_name)\n",
    "    country_cases = country_info[0]\n",
    "    country_deaths = country_info[1]\n",
    "    \n",
    "    country_daily_increase = daily_increase(country_cases)\n",
    "    country_daily_death = daily_increase(country_deaths)\n",
    "    country_plot(num_of_days, country_cases, country_daily_increase, country_daily_death, country_name)"
   ]
  },
  {
   "cell_type": "code",
   "execution_count": null,
   "metadata": {},
   "outputs": [],
   "source": [
    "country = input('Which country do you want to see:')\n",
    "country_visualizations(country)"
   ]
  },
  {
   "cell_type": "code",
   "execution_count": null,
   "metadata": {},
   "outputs": [],
   "source": [
    "unique_countries =  list(latest_data['Country_Region'].unique())\n",
    "country_confirmed_cases = []\n",
    "country_death_cases = [] \n",
    "country_active_cases = []\n",
    "country_incidence_rate = [] \n",
    "country_mortality_rate = [] \n",
    "no_cases = []\n",
    "for i in unique_countries:\n",
    "    cases = latest_data[latest_data['Country_Region']==i]['Confirmed'].sum()\n",
    "    if cases > 0:\n",
    "        country_confirmed_cases.append(cases)\n",
    "    else:\n",
    "        no_cases.append(i)\n",
    "        \n",
    "for i in no_cases:\n",
    "    unique_countries.remove(i)\n",
    "    \n",
    "# sort countries by the number of confirmed cases\n",
    "unique_countries = [k for k, v in sorted(zip(unique_countries, country_confirmed_cases), key=operator.itemgetter(1), reverse=True)]\n",
    "for i in range(len(unique_countries)):\n",
    "    country_confirmed_cases[i] = latest_data[latest_data['Country_Region']==unique_countries[i]]['Confirmed'].sum()\n",
    "    country_death_cases.append(latest_data[latest_data['Country_Region']==unique_countries[i]]['Deaths'].sum())\n",
    "    country_incidence_rate.append(latest_data[latest_data['Country_Region']==unique_countries[i]]['Incident_Rate'].sum())\n",
    "    country_mortality_rate.append(country_death_cases[i]/country_confirmed_cases[i])\n"
   ]
  },
  {
   "cell_type": "code",
   "execution_count": null,
   "metadata": {},
   "outputs": [],
   "source": [
    "country_df = pd.DataFrame({'Country Name': unique_countries, 'Number of Confirmed Cases': [format(int(i), ',d') for i in country_confirmed_cases],\n",
    "                          'Number of Deaths': [format(int(i), ',d') for i in country_death_cases], \n",
    "                          'Incidence Rate' : country_incidence_rate,\n",
    "                          'Mortality Rate': country_mortality_rate})\n",
    "                          \n",
    "# number of cases per country/region\n",
    "country_df.style.background_gradient(cmap='autumn_r')"
   ]
  },
  {
   "cell_type": "code",
   "execution_count": null,
   "metadata": {},
   "outputs": [],
   "source": [
    "mean_mortality_rate = np.mean(mortality_rate)\n",
    "plt.figure(figsize=(16, 10))\n",
    "plt.plot(num_of_days, mortality_rate, color='red')\n",
    "plt.axhline(y = mean_mortality_rate, linestyle='--', color='black')\n",
    "plt.title('Worldwide Mortality Rate of Coronavirus Over Time', size=30)\n",
    "plt.xlabel('Days Since 22/1/2020', size=30)\n",
    "plt.ylabel('Case Mortality Rate', size=30)\n",
    "plt.legend(['Mean_mortality_rate', 'Worldwide Mortality Rate'])\n",
    "plt.xticks(size=20)\n",
    "plt.yticks(size=20)\n",
    "plt.show()"
   ]
  },
  {
   "cell_type": "code",
   "execution_count": null,
   "metadata": {},
   "outputs": [],
   "source": [
    "unique_provinces =  list(latest_data['Province_State'].unique())\n",
    "province_confirmed_cases = []\n",
    "province_country = [] \n",
    "province_death_cases = [] \n",
    "province_incidence_rate = []\n",
    "province_mortality_rate = [] \n",
    "\n",
    "no_cases = [] \n",
    "for i in unique_provinces:\n",
    "    cases = latest_data[latest_data['Province_State']==i]['Confirmed'].sum()\n",
    "    if cases > 0:\n",
    "        province_confirmed_cases.append(cases)\n",
    "    else:\n",
    "        no_cases.append(i)\n",
    " \n",
    "# remove areas with no confirmed cases\n",
    "for i in no_cases:\n",
    "    unique_provinces.remove(i)\n",
    "    \n",
    "unique_provinces = [k for k, v in sorted(zip(unique_provinces, province_confirmed_cases), key=operator.itemgetter(1), reverse=True)]\n",
    "for i in range(len(unique_provinces)):\n",
    "    province_confirmed_cases[i] = latest_data[latest_data['Province_State']==unique_provinces[i]]['Confirmed'].sum()\n",
    "    province_country.append(latest_data[latest_data['Province_State']==unique_provinces[i]]['Country_Region'].unique()[0])\n",
    "    province_death_cases.append(latest_data[latest_data['Province_State']==unique_provinces[i]]['Deaths'].sum())\n",
    "    province_incidence_rate.append(latest_data[latest_data['Province_State']==unique_provinces[i]]['Incident_Rate'].sum())\n",
    "    province_mortality_rate.append(province_death_cases[i]/province_confirmed_cases[i])"
   ]
  },
  {
   "cell_type": "code",
   "execution_count": null,
   "metadata": {},
   "outputs": [],
   "source": [
    "# number of cases per province/state/city top 100 \n",
    "province_limit = 100 \n",
    "province_df = pd.DataFrame({'Province/State Name': unique_provinces[:province_limit], 'Country': province_country[:province_limit], 'Number of Confirmed Cases': [format(int(i), ',d') for i in province_confirmed_cases[:province_limit]],\n",
    "                          'Number of Deaths': [format(int(i), ',d') for i in province_death_cases[:province_limit]], \n",
    "                        'Incidence Rate' : province_incidence_rate[:province_limit], 'Mortality Rate': province_mortality_rate[:province_limit]})\n",
    "# number of cases per country/region\n",
    "\n",
    "province_df.style.background_gradient(cmap='Oranges')"
   ]
  },
  {
   "cell_type": "code",
   "execution_count": null,
   "metadata": {},
   "outputs": [],
   "source": [
    "# return the data table with province/state info for a given country\n",
    "def country_table(country_name):\n",
    "    states = list(latest_data[latest_data['Country_Region']==country_name]['Province_State'].unique())\n",
    "    state_confirmed_cases = []\n",
    "    state_death_cases = [] \n",
    "    state_incidence_rate = [] \n",
    "    state_mortality_rate = [] \n",
    "\n",
    "    no_cases = [] \n",
    "    for i in states:\n",
    "        cases = latest_data[latest_data['Province_State']==i]['Confirmed'].sum()\n",
    "        if cases > 0:\n",
    "            state_confirmed_cases.append(cases)\n",
    "        else:\n",
    "            no_cases.append(i)\n",
    "\n",
    "    # remove areas with no confirmed cases\n",
    "    for i in no_cases:\n",
    "        states.remove(i)\n",
    "\n",
    "    states = [k for k, v in sorted(zip(states, state_confirmed_cases), key=operator.itemgetter(1), reverse=True)]\n",
    "    for i in range(len(states)):\n",
    "        state_confirmed_cases[i] = latest_data[latest_data['Province_State']==states[i]]['Confirmed'].sum()\n",
    "        state_death_cases.append(latest_data[latest_data['Province_State']==states[i]]['Deaths'].sum())\n",
    "        state_incidence_rate.append(latest_data[latest_data['Province_State']==states[i]]['Incident_Rate'].sum())\n",
    "        state_mortality_rate.append(state_death_cases[i]/state_confirmed_cases[i])\n",
    "        \n",
    "      \n",
    "    state_df = pd.DataFrame({'State Name': states, 'Number of Confirmed Cases': [format(int(i), ',d') for i in state_confirmed_cases],\n",
    "                              'Number of Deaths': [format(int(i), ',d') for i in state_death_cases], \n",
    "                             'Incidence Rate' : state_incidence_rate, 'Mortality Rate': state_mortality_rate})\n",
    "    # number of cases per country/region\n",
    "    return state_df"
   ]
  },
  {
   "cell_type": "code",
   "execution_count": null,
   "metadata": {},
   "outputs": [],
   "source": [
    "country_name = input('Input your country: ')\n",
    "table = country_table(country_name)\n",
    "table.style.background_gradient(cmap='Oranges')"
   ]
  },
  {
   "cell_type": "code",
   "execution_count": null,
   "metadata": {},
   "outputs": [],
   "source": [
    "total_world_cases = np.sum(country_confirmed_cases)\n",
    "us_confirmed = latest_data[latest_data['Country_Region']=='US']['Confirmed'].sum()\n",
    "outside_us_confirmed = total_world_cases - us_confirmed\n",
    "\n",
    "plt.figure(figsize=(16, 9))\n",
    "plt.barh('United States', us_confirmed)\n",
    "plt.barh('Outside United States', outside_us_confirmed)\n",
    "plt.title('# of Total Coronavirus Confirmed Cases', size=20)\n",
    "plt.xticks(size=20)\n",
    "plt.yticks(size=20)\n",
    "plt.show()\n",
    "\n",
    "plt.figure(figsize=(16, 9))\n",
    "plt.barh('United States', us_confirmed/total_world_cases)\n",
    "plt.barh('Outside United States', outside_us_confirmed/total_world_cases)\n",
    "plt.title('# of Coronavirus Confirmed Cases Expressed in Percentage', size=20)\n",
    "plt.xticks(size=20)\n",
    "plt.yticks(size=20)\n",
    "plt.show()"
   ]
  },
  {
   "cell_type": "code",
   "execution_count": null,
   "metadata": {},
   "outputs": [],
   "source": [
    "print('Outside United States {} cases ({}%):'.format(outside_us_confirmed, np.round((outside_us_confirmed/total_world_cases)*100, 1)))\n",
    "print('United States {} cases ({}%)'.format(us_confirmed, np.round((us_confirmed/total_world_cases)*100, 1)))\n",
    "print('Total: {} cases'.format(total_world_cases))"
   ]
  },
  {
   "cell_type": "code",
   "execution_count": null,
   "metadata": {},
   "outputs": [],
   "source": [
    "# Only show 10 countries with the most confirmed cases, the rest are grouped into the other category\n",
    "visual_unique_countries = [] \n",
    "visual_confirmed_cases = []\n",
    "others = np.sum(country_confirmed_cases[10:])\n",
    "\n",
    "for i in range(len(country_confirmed_cases[:10])):\n",
    "    visual_unique_countries.append(unique_countries[i])\n",
    "    visual_confirmed_cases.append(country_confirmed_cases[i])\n",
    "    \n",
    "visual_unique_countries.append('Others')\n",
    "visual_confirmed_cases.append(others)"
   ]
  },
  {
   "cell_type": "code",
   "execution_count": null,
   "metadata": {},
   "outputs": [],
   "source": [
    "def plot_bar_graphs(x, y, title):\n",
    "    plt.figure(figsize=PLOT_SIZE)\n",
    "    plt.barh(x, y)\n",
    "    plt.title(title, size=20)\n",
    "    plt.xticks(size=20)\n",
    "    plt.yticks(size=20)\n",
    "    plt.show()"
   ]
  },
  {
   "cell_type": "code",
   "execution_count": null,
   "metadata": {},
   "outputs": [],
   "source": [
    "plot_bar_graphs(visual_unique_countries, visual_confirmed_cases, '# of Covid-19 Confirmed Cases in Countries/Regions')"
   ]
  },
  {
   "cell_type": "code",
   "execution_count": null,
   "metadata": {},
   "outputs": [],
   "source": [
    "log_country_confirmed_cases = [math.log10(i) for i in visual_confirmed_cases]\n",
    "plot_bar_graphs(visual_unique_countries, log_country_confirmed_cases, 'Common Log # of Coronavirus Confirmed Cases in Countries/Regions')"
   ]
  },
  {
   "cell_type": "code",
   "execution_count": null,
   "metadata": {},
   "outputs": [],
   "source": [
    "# Only show 10 provinces with the most confirmed cases, the rest are grouped into the other category\n",
    "visual_unique_provinces = [] \n",
    "visual_confirmed_cases2 = []\n",
    "others = np.sum(province_confirmed_cases[10:])\n",
    "for i in range(len(province_confirmed_cases[:10])):\n",
    "    visual_unique_provinces.append(unique_provinces[i])\n",
    "    visual_confirmed_cases2.append(province_confirmed_cases[i])\n",
    "\n",
    "visual_unique_provinces.append('Others')\n",
    "visual_confirmed_cases2.append(others)"
   ]
  },
  {
   "cell_type": "code",
   "execution_count": null,
   "metadata": {},
   "outputs": [],
   "source": [
    "plot_bar_graphs(visual_unique_provinces, visual_confirmed_cases2, '# of Coronavirus Confirmed Cases in Provinces/States')"
   ]
  },
  {
   "cell_type": "code",
   "execution_count": null,
   "metadata": {},
   "outputs": [],
   "source": [
    "log_province_confirmed_cases = [math.log10(i) for i in visual_confirmed_cases2]\n",
    "plot_bar_graphs(visual_unique_provinces, log_province_confirmed_cases, 'Log of # of Coronavirus Confirmed Cases in Provinces/States')"
   ]
  },
  {
   "cell_type": "code",
   "execution_count": null,
   "metadata": {},
   "outputs": [],
   "source": [
    "def plot_pie_charts(x, y, title):\n",
    "    # more muted color \n",
    "    c = ['lightcoral', 'rosybrown', 'sandybrown', 'navajowhite', 'gold',\n",
    "        'khaki', 'lightskyblue', 'turquoise', 'lightslategrey', 'thistle', 'pink']\n",
    "    plt.figure(figsize=(20,15))\n",
    "    plt.title(title, size=20)\n",
    "    plt.pie(y, colors=c,shadow=True)\n",
    "    plt.legend(x, loc='best', fontsize=12)\n",
    "    plt.show()"
   ]
  },
  {
   "cell_type": "code",
   "execution_count": null,
   "metadata": {},
   "outputs": [],
   "source": [
    "plot_pie_charts(visual_unique_countries, visual_confirmed_cases, 'Covid-19 Confirmed Cases per Country')"
   ]
  },
  {
   "cell_type": "code",
   "execution_count": null,
   "metadata": {},
   "outputs": [],
   "source": [
    "plot_pie_charts(visual_unique_provinces, visual_confirmed_cases2, 'Covid-19 Confirmed Cases per State/Province/Region')"
   ]
  },
  {
   "cell_type": "code",
   "execution_count": null,
   "metadata": {},
   "outputs": [],
   "source": [
    "# Plotting countries with regional data using a pie chart \n",
    "def plot_pie_country_with_regions(country_name, title):\n",
    "    regions = list(latest_data[latest_data['Country_Region']==country_name]['Province_State'].unique())\n",
    "    confirmed_cases = []\n",
    "    no_cases = [] \n",
    "    for i in regions:\n",
    "        cases = latest_data[latest_data['Province_State']==i]['Confirmed'].sum()\n",
    "        if cases > 0:\n",
    "            confirmed_cases.append(cases)\n",
    "        else:\n",
    "            no_cases.append(i)\n",
    "\n",
    "    # remove areas with no confirmed cases\n",
    "    for i in no_cases:\n",
    "        regions.remove(i)\n",
    "\n",
    "    # only show the top 5 states\n",
    "    regions = [k for k, v in sorted(zip(regions, confirmed_cases), key=operator.itemgetter(1), reverse=True)]\n",
    "\n",
    "    for i in range(len(regions)):\n",
    "        confirmed_cases[i] = latest_data[latest_data['Province_State']==regions[i]]['Confirmed'].sum()  \n",
    "    \n",
    "    # additional province/state will be considered \"others\"    \n",
    "    if(len(regions)>5):\n",
    "        regions_5 = regions[:5]\n",
    "        regions_5.append('Others')\n",
    "        confirmed_cases_5 = confirmed_cases[:5]\n",
    "        confirmed_cases_5.append(np.sum(confirmed_cases[5:]))\n",
    "        plot_pie_charts(regions_5,confirmed_cases_5, title)\n",
    "    else:\n",
    "        plot_pie_charts(regions,confirmed_cases, title)"
   ]
  },
  {
   "cell_type": "code",
   "execution_count": null,
   "metadata": {},
   "outputs": [],
   "source": [
    "country_name = input('Input the country name: ')\n",
    "plot_pie_country_with_regions(country_name, 'Covid-19 Confirmed Cases in {}'.format(i))"
   ]
  },
  {
   "cell_type": "code",
   "execution_count": null,
   "metadata": {},
   "outputs": [],
   "source": [
    "days_in_future = 10\n",
    "future_forcast = np.array([i for i in range(len(dates)+days_in_future)]).reshape(-1, 1)\n",
    "start = '1/22/2020'\n",
    "start_date = datetime.datetime.strptime(start, '%m/%d/%Y')\n",
    "future_forcast_dates = []\n",
    "for i in range(len(future_forcast)):\n",
    "    future_forcast_dates.append((start_date + datetime.timedelta(days=i)).strftime('%m/%d/%Y'))"
   ]
  },
  {
   "cell_type": "code",
   "execution_count": null,
   "metadata": {},
   "outputs": [],
   "source": [
    "days_to_skip = 376\n",
    "days_since_1_22 = np.array([i for i in range(len(dates))]).reshape(-1, 1)\n",
    "X_train_confirmed, X_test_confirmed, y_train_confirmed, y_test_confirmed = train_test_split(days_since_1_22[days_to_skip:], world_cases[days_to_skip:], test_size=0.08, shuffle=False) "
   ]
  },
  {
   "cell_type": "code",
   "execution_count": null,
   "metadata": {},
   "outputs": [],
   "source": [
    "svm_confirmed = SVR(shrinking=True, kernel='poly',gamma=0.01, epsilon=1,degree=3, C=0.1)\n",
    "svm_confirmed.fit(X_train_confirmed, y_train_confirmed)\n",
    "svm_pred = svm_confirmed.predict(future_forcast)"
   ]
  },
  {
   "cell_type": "code",
   "execution_count": null,
   "metadata": {},
   "outputs": [],
   "source": [
    "len(svm_pred)"
   ]
  }
 ],
 "metadata": {
  "interpreter": {
   "hash": "b280a8e851adcd8bb171629d8dcdb26835ae882049d58af29b7152cbc7fba4a5"
  },
  "kernelspec": {
   "display_name": "Python 3.9.7 64-bit",
   "name": "python3"
  },
  "language_info": {
   "codemirror_mode": {
    "name": "ipython",
    "version": 3
   },
   "file_extension": ".py",
   "mimetype": "text/x-python",
   "name": "python",
   "nbconvert_exporter": "python",
   "pygments_lexer": "ipython3",
   "version": "3.9.7"
  },
  "orig_nbformat": 4
 },
 "nbformat": 4,
 "nbformat_minor": 2
}
